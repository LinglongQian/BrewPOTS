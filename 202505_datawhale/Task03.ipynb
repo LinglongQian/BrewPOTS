{
 "cells": [
  {
   "cell_type": "markdown",
   "id": "9ec73940-064c-4613-bd7f-03eb9a378754",
   "metadata": {},
   "source": [
    "# Task03. 下游任务的两阶段处理"
   ]
  },
  {
   "cell_type": "markdown",
   "id": "a8ab9c82-ba1d-4821-b98b-755731920b3b",
   "metadata": {},
   "source": [
    "# 1. 什么是两阶段 (two-stage) 处理\n",
    "\n",
    "### 一般采集到的时序数据可能会有\"瑕疵\", 例如包含缺失值, 异常数据点和样本等等, 虽然这些\"瑕疵\"也属于数据的特性 (例如缺失值的模式可能代表了设备的异常情况), 但在一般的建模中是有害的不被我们需要的, 会阻碍算法的学习甚至让我们无法使用神经网络直接对其进行端到端的建模 (例如很多的时序预测算法和分类算法无法处理缺失值), 这时就需要我们在上游先对时序进行有特别目的的再处理, 然后进行下游任务(例如预测, 分类等)建模, 这样的建模处理分就被分为了两个阶段."
   ]
  },
  {
   "cell_type": "markdown",
   "id": "58838538-9283-4835-88cf-9487284ebc87",
   "metadata": {},
   "source": [
    "# 2. 使用TimesNet对Task02中插补的数据集进行分类"
   ]
  }
 ],
 "metadata": {
  "kernelspec": {
   "display_name": "Python 3 (ipykernel)",
   "language": "python",
   "name": "python3"
  },
  "language_info": {
   "codemirror_mode": {
    "name": "ipython",
    "version": 3
   },
   "file_extension": ".py",
   "mimetype": "text/x-python",
   "name": "python",
   "nbconvert_exporter": "python",
   "pygments_lexer": "ipython3",
   "version": "3.12.4"
  }
 },
 "nbformat": 4,
 "nbformat_minor": 5
}
