{
 "cells": [
  {
   "cell_type": "markdown",
   "id": "0b42a636-bf13-4625-af2e-a8eb5c6ea571",
   "metadata": {},
   "source": [
    "# Task06. 自定义数据集下游任务的两种分析方法"
   ]
  },
  {
   "cell_type": "markdown",
   "id": "61efebb5-63f6-4fef-b17e-aa37bc8532f8",
   "metadata": {},
   "source": [
    "# 1. 基于Task05中插补后的数据集进行分类"
   ]
  },
  {
   "cell_type": "markdown",
   "id": "a3b4f723-a1fd-4335-bf78-e31ee9424fb5",
   "metadata": {},
   "source": [
    "# 2. 对自定义数据集进行基于端到端学习的分类"
   ]
  }
 ],
 "metadata": {
  "kernelspec": {
   "display_name": "Python 3 (ipykernel)",
   "language": "python",
   "name": "python3"
  },
  "language_info": {
   "codemirror_mode": {
    "name": "ipython",
    "version": 3
   },
   "file_extension": ".py",
   "mimetype": "text/x-python",
   "name": "python",
   "nbconvert_exporter": "python",
   "pygments_lexer": "ipython3",
   "version": "3.12.4"
  }
 },
 "nbformat": 4,
 "nbformat_minor": 5
}
