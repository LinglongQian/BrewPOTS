{
 "cells": [
  {
   "cell_type": "markdown",
   "id": "7590ebb7-7982-47b2-906e-075efbb2537c",
   "metadata": {},
   "source": [
    "# Task04. 下游任务的端到端学习"
   ]
  },
  {
   "cell_type": "markdown",
   "id": "a897acbc-beec-41a8-aa4a-933c5d35ee3a",
   "metadata": {},
   "source": [
    "# 1. 端到端学习的重要性\n",
    "\n",
    "### 在Task04中我们使用PyPOTS对自定义数据集进行了两阶段建模, 即在上游先对数据集中的缺失值进行插补, 然后对处理好的数据集进行下游任务建模. 同时, 我们也强调了缺失值本身也是数据集的特性, 数据的缺失模式可能携带了额外的信息来表征数据采集对象的状态, 而这些信息在两阶段处理中可能会丢失, 因为插补值是模型根据观测到的数据分布推测出来的, 插补后下游算法无法知道原数据中的缺失模式, 也就无法充分利用这部分信息来学习. 端到端学习则是使用一个模型直接接受包含缺失值的数据然后在特定任务上进行学习. 虽然在很多时候我们无法提前判断在某个时序数据集上是使用两阶段方法还是端到端方法能够取得更好的效果 (因为最终的效果涉及到很多方面, 包括但不限于模型自身的能力, 超参调优 等等), 但是端到端方法显然拥有更大的潜力"
   ]
  },
  {
   "cell_type": "markdown",
   "id": "b452be00-8b10-49d9-b570-b53ff7978eb7",
   "metadata": {},
   "source": [
    "# 2. 使用BRITS直接在PhysioNet2012上进行分类"
   ]
  },
  {
   "cell_type": "markdown",
   "id": "1278070a-df35-43f5-a25a-51eb21bce761",
   "metadata": {},
   "source": [
    "### 2.1 数据加载"
   ]
  },
  {
   "cell_type": "code",
   "execution_count": null,
   "id": "99150a70-41f9-421a-98be-2036c9b0b8ab",
   "metadata": {},
   "outputs": [],
   "source": [
    "from benchpots.datasets import preprocess_physionet2012\n",
    "\n",
    "physionet2012_dataset = preprocess_physionet2012(\n",
    "    subset=\"set-a\", \n",
    "    pattern=\"point\", \n",
    "    rate=0.1,\n",
    ")\n",
    "\n",
    "dataset_for_training = {\n",
    "    \"X\": physionet2012_dataset['train_X'],\n",
    "    \"y\": physionet2012_dataset['train_y'],\n",
    "}\n",
    "\n",
    "dataset_for_validating = {\n",
    "    \"X\": physionet2012_dataset['val_X'],\n",
    "    \"y\": physionet2012_dataset['val_y'],\n",
    "}\n",
    "\n",
    "dataset_for_testing = {\n",
    "    \"X\": physionet2012_dataset['test_X'],\n",
    "    \"y\": physionet2012_dataset['test_y'],\n",
    "}"
   ]
  },
  {
   "cell_type": "markdown",
   "id": "fbfefd9b-dd42-455b-ab0a-e5a1a6fc4996",
   "metadata": {},
   "source": [
    "### 2.2 使用PyPOTS进行模型训练"
   ]
  },
  {
   "cell_type": "code",
   "execution_count": null,
   "id": "d0bc709e-87e4-4b3b-a017-5501420b05bc",
   "metadata": {},
   "outputs": [],
   "source": [
    "from pypots.classification import BRITS\n",
    "\n",
    "brits = BRITS(\n",
    "    n_steps=physionet2012_dataset['n_steps'],\n",
    "    n_features=physionet2012_dataset['n_features'],\n",
    "    n_classes=physionet2012_dataset[\"n_classes\"],\n",
    "    rnn_hidden_size=128,\n",
    "    epochs=20,\n",
    "    patience=5,\n",
    ")\n",
    "\n",
    "brits.fit(dataset_for_training, dataset_for_validating)"
   ]
  },
  {
   "cell_type": "markdown",
   "id": "52f50e8f-2a3d-4010-a139-abf943320cd8",
   "metadata": {},
   "source": [
    "### 2.3 计算分类精度"
   ]
  },
  {
   "cell_type": "code",
   "execution_count": null,
   "id": "dc082c74-652f-42de-8a45-78fb32525a34",
   "metadata": {},
   "outputs": [],
   "source": [
    "from pypots.nn.functional.classification import calc_binary_classification_metrics\n",
    "\n",
    "brits_results = brits.predict(dataset_for_testing)\n",
    "brits_prediction = brits_results[\"classification\"]\n",
    "\n",
    "classification_metrics=calc_binary_classification_metrics(\n",
    "    brits_prediction, dataset_for_testing[\"y\"]\n",
    ")\n",
    "print(f\"BRITS在测试集上的ROC-AUC为: {classification_metrics['roc_auc']:.4f}\\n\")\n",
    "print(f\"BRITS在测试集上的PR-AUC为: {classification_metrics['pr_auc']:.4f}\\n\")"
   ]
  }
 ],
 "metadata": {
  "kernelspec": {
   "display_name": "Python 3 (ipykernel)",
   "language": "python",
   "name": "python3"
  },
  "language_info": {
   "codemirror_mode": {
    "name": "ipython",
    "version": 3
   },
   "file_extension": ".py",
   "mimetype": "text/x-python",
   "name": "python",
   "nbconvert_exporter": "python",
   "pygments_lexer": "ipython3",
   "version": "3.12.4"
  }
 },
 "nbformat": 4,
 "nbformat_minor": 5
}
