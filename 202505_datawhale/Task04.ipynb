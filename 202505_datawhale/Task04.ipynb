{
 "cells": [
  {
   "cell_type": "markdown",
   "id": "7590ebb7-7982-47b2-906e-075efbb2537c",
   "metadata": {},
   "source": [
    "# Task04. 下游任务的端到端学习"
   ]
  },
  {
   "cell_type": "markdown",
   "id": "a897acbc-beec-41a8-aa4a-933c5d35ee3a",
   "metadata": {},
   "source": [
    "# 1. 端到端学习的重要性\n",
    "\n",
    "### 在Task04中我们使用PyPOTS对自定义数据集进行了两阶段建模, 即在上游先对数据集中的缺失值进行插补, 然后对处理好的数据集进行下游任务建模. 同时, 我们也强调了缺失值本身也是数据集的特性, 数据的缺失模式可能携带了额外的信息来表征数据采集对象的状态, 而这些信息在两阶段处理中可能会丢失, 因为插补值是模型根据观测到的数据分布推测出来的, 插补后下游算法无法知道原数据中的缺失模式, 也就无法充分利用这部分信息来学习. 端到端学习则是使用一个模型直接接受包含缺失值的数据然后在特定任务上进行学习..."
   ]
  },
  {
   "cell_type": "markdown",
   "id": "b452be00-8b10-49d9-b570-b53ff7978eb7",
   "metadata": {},
   "source": [
    "# 2. 使用SAITS和TimesNet直接在自定义数据集上进行分类"
   ]
  }
 ],
 "metadata": {
  "kernelspec": {
   "display_name": "Python 3 (ipykernel)",
   "language": "python",
   "name": "python3"
  },
  "language_info": {
   "codemirror_mode": {
    "name": "ipython",
    "version": 3
   },
   "file_extension": ".py",
   "mimetype": "text/x-python",
   "name": "python",
   "nbconvert_exporter": "python",
   "pygments_lexer": "ipython3",
   "version": "3.12.4"
  }
 },
 "nbformat": 4,
 "nbformat_minor": 5
}
