{
 "cells": [
  {
   "cell_type": "markdown",
   "id": "7ba919c9-ff72-42ea-867e-fa6013b16810",
   "metadata": {},
   "source": [
    "# Task05. 自定义时序数据集的预处理与插补"
   ]
  },
  {
   "cell_type": "markdown",
   "id": "ed483ad5-fd01-42c7-a629-f9fcd5db3b89",
   "metadata": {},
   "source": [
    "# 1. 预处理自定义数据集\n",
    "\n",
    "### 在该部分我们将以PhysioNet2012数据集为例, 展示如何将自定义的时序数据处理成能输入到PyPOTS中的数据集"
   ]
  },
  {
   "cell_type": "code",
   "execution_count": null,
   "id": "174b64a9-e4e9-4dca-b2bb-428b1478476e",
   "metadata": {},
   "outputs": [],
   "source": []
  },
  {
   "cell_type": "code",
   "execution_count": null,
   "id": "2f042d9c-a5da-4ee0-9e5d-966951d5292f",
   "metadata": {},
   "outputs": [],
   "source": []
  },
  {
   "cell_type": "markdown",
   "id": "99dccc3e-d043-45c9-8876-2a08dd889817",
   "metadata": {},
   "source": [
    "# 2. 使用SAITS对自定义数据集中的缺失值进行插补"
   ]
  },
  {
   "cell_type": "code",
   "execution_count": null,
   "id": "28f29575-7f31-4791-8350-4220d242f768",
   "metadata": {},
   "outputs": [],
   "source": []
  }
 ],
 "metadata": {
  "kernelspec": {
   "display_name": "Python 3 (ipykernel)",
   "language": "python",
   "name": "python3"
  },
  "language_info": {
   "codemirror_mode": {
    "name": "ipython",
    "version": 3
   },
   "file_extension": ".py",
   "mimetype": "text/x-python",
   "name": "python",
   "nbconvert_exporter": "python",
   "pygments_lexer": "ipython3",
   "version": "3.12.4"
  }
 },
 "nbformat": 4,
 "nbformat_minor": 5
}
