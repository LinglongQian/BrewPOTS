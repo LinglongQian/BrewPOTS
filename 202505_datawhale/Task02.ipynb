{
 "cells": [
  {
   "cell_type": "markdown",
   "id": "6304638f-9194-43fc-8ccc-61bc855be389",
   "metadata": {},
   "source": [
    "# Task02. 搭建开发环境并运行、理解时序插补工作流"
   ]
  },
  {
   "cell_type": "markdown",
   "id": "cb2b1d8f-2dc4-41a3-a799-5d0e4278d686",
   "metadata": {},
   "source": [
    "## 1. 开发环境配置"
   ]
  },
  {
   "cell_type": "markdown",
   "id": "e9b89c6d-be99-48d8-93ae-670be29802a3",
   "metadata": {},
   "source": [
    "### PyPOTS开发环境支持多种安装方式, 你可以自由选择从源码安装, 通过pip安装PyPI上的发布版本或者使用conda从conda-forge的发行版进行环境配置, 如果你熟悉docker的使用方式, 也可以通过docker来获取我们已经为你配置好的PyPOTS开发环境容器\n",
    "\n",
    "### 从下方选择一种你熟悉的安装方式来为PyPOTS配置Python开发环境"
   ]
  },
  {
   "cell_type": "code",
   "execution_count": null,
   "id": "f6788a65-4799-4287-b31e-1c36fe3ff445",
   "metadata": {},
   "outputs": [],
   "source": [
    "# 从源码安装\n",
    "!pip install https://github.com/WenjieDu/PyPOTS/archive/main.zip"
   ]
  },
  {
   "cell_type": "code",
   "execution_count": null,
   "id": "d9b6d6a3-d4ad-4e91-8aa2-d3f5eafb6b05",
   "metadata": {},
   "outputs": [],
   "source": [
    "# 从PyPI安装 \n",
    "!pip install pypots"
   ]
  },
  {
   "cell_type": "code",
   "execution_count": null,
   "id": "fc58e92a-80b6-4e44-9372-8ec210b598df",
   "metadata": {},
   "outputs": [],
   "source": [
    "# 从conda-forge安装 (‼️请确定你熟悉conda的操作并且确认你的电脑上安装了conda)\n",
    "!conda install conda-forge::pypots"
   ]
  },
  {
   "cell_type": "code",
   "execution_count": null,
   "id": "b85b4d8e-c2cb-48c2-a94c-016102f8c100",
   "metadata": {},
   "outputs": [],
   "source": [
    "# 运行配置好PyPOTS开发环境的docker容器 (‼️请确定你熟悉docker的使用并且确认你的电脑上安装了docker)\n",
    "!docker run -it --name pypots wenjiedu/pypots"
   ]
  },
  {
   "cell_type": "markdown",
   "id": "a250ac53-01c6-4cea-9a5b-c3f4d2bc3fa5",
   "metadata": {},
   "source": [
    "## 2. 时间序列插补工作流"
   ]
  },
  {
   "cell_type": "markdown",
   "id": "a6cf423f-898b-4afe-a544-999b963de533",
   "metadata": {},
   "source": [
    "## 生成一个随机的时间序列数据集"
   ]
  },
  {
   "cell_type": "code",
   "execution_count": null,
   "id": "18fddf59-9cba-435a-9ffe-0ebc1b918e21",
   "metadata": {},
   "outputs": [],
   "source": [
    "from benchpots.datasets import preprocess_physionet2012\n",
    "\n",
    "physionet2012_dataset = preprocess_physionet2012(\n",
    "    subset=\"set-a\", \n",
    "    pattern=\"point\", \n",
    "    rate=0.1,\n",
    ")\n",
    "print(physionet2012_dataset.keys())"
   ]
  },
  {
   "cell_type": "code",
   "execution_count": null,
   "id": "a3148238-4842-43df-8cbc-9b3538f2a52f",
   "metadata": {},
   "outputs": [],
   "source": [
    "import numpy as np\n",
    "\n",
    "physionet2012_dataset[\"test_X_indicating_mask\"] = np.isnan(physionet2012_dataset[\"test_X\"]) ^ np.isnan(physionet2012_dataset[\"test_X_ori\"])\n",
    "physionet2012_dataset[\"test_X_ori\"] = np.nan_to_num(physionet2012_dataset[\"test_X_ori\"])\n",
    "\n",
    "train_set = {\n",
    "    \"X\": physionet2012_dataset[\"train_X\"],\n",
    "}\n",
    "val_set = {\n",
    "    \"X\": physionet2012_dataset[\"val_X\"],\n",
    "    \"X_ori\": physionet2012_dataset[\"val_X_ori\"],\n",
    "}\n",
    "test_set = {\n",
    "    \"X\": physionet2012_dataset[\"test_X\"],\n",
    "    \"X_ori\": physionet2012_dataset[\"test_X_ori\"],\n",
    "}"
   ]
  },
  {
   "cell_type": "code",
   "execution_count": null,
   "id": "39a8eff3-d5f9-4c38-9aae-0d711d9fb40a",
   "metadata": {},
   "outputs": [],
   "source": [
    "physionet2012_dataset['n_features']"
   ]
  },
  {
   "cell_type": "code",
   "execution_count": null,
   "id": "eba5d2f2-505a-44bf-9ef3-92c7b0fe3a3b",
   "metadata": {},
   "outputs": [],
   "source": [
    "from pypots.imputation import SAITS\n",
    "\n",
    "saits = SAITS(\n",
    "    n_steps=physionet2012_dataset['n_steps'],\n",
    "    n_features=physionet2012_dataset['n_features'],\n",
    "    n_layers=3,\n",
    "    d_model=64,\n",
    "    n_heads=4,\n",
    "    d_k=16,\n",
    "    d_v=16,\n",
    "    d_ffn=128,\n",
    "    dropout=0.1,\n",
    "    epochs=10,\n",
    ")"
   ]
  },
  {
   "cell_type": "code",
   "execution_count": null,
   "id": "9b6c8f38-54f2-43c2-a011-5e80361ff11b",
   "metadata": {},
   "outputs": [],
   "source": [
    "saits.fit(train_set, val_set)"
   ]
  },
  {
   "cell_type": "code",
   "execution_count": null,
   "id": "31b4855c-7965-4b21-958a-4f9be240c009",
   "metadata": {},
   "outputs": [],
   "source": [
    "test_set_imputation_results = saits.predict(test_set)"
   ]
  },
  {
   "cell_type": "code",
   "execution_count": null,
   "id": "6fb7db21-b17a-4634-b940-fbd6f325cdab",
   "metadata": {},
   "outputs": [],
   "source": [
    "from pypots.nn.functional import calc_mse\n",
    "\n",
    "test_MSE = calc_mse(\n",
    "            test_set_imputation_results[\"imputation\"],\n",
    "            physionet2012_dataset[\"test_X_ori\"],\n",
    "            physionet2012_dataset[\"test_X_indicating_mask\"],\n",
    ")\n",
    "print(f\"SAITS test_MSE: {test_MSE}\")"
   ]
  },
  {
   "cell_type": "code",
   "execution_count": null,
   "id": "d4c22d5f-a635-46b6-8b39-665e5c8b066a",
   "metadata": {},
   "outputs": [],
   "source": [
    "from typing import Optional\n",
    "\n",
    "import matplotlib.pyplot as plt\n",
    "import numpy as np\n",
    "import pandas as pd\n",
    "from pypots.utils.logging import logger\n",
    "\n",
    "\n",
    "# TODO: 优化该画图函数\n",
    "def plot_data(\n",
    "    X: np.ndarray,\n",
    "    X_ori: np.ndarray,\n",
    "    X_imputed: np.ndarray,\n",
    "    sample_idx: Optional[int] = None,\n",
    "    n_rows: int = 10,\n",
    "    n_cols: int = 4,\n",
    "    fig_size: Optional[list] = None,\n",
    "):\n",
    "\n",
    "    vals_shape = X.shape\n",
    "    assert len(vals_shape) == 3, \"vals_obs should be a 3D array of shape (n_samples, n_steps, n_features)\"\n",
    "    n_samples, n_steps, n_features = vals_shape\n",
    "\n",
    "    if sample_idx is None:\n",
    "        sample_idx = np.random.randint(low=0, high=n_samples)\n",
    "        logger.warning(f\"⚠️ No sample index is specified, a random sample {sample_idx} is selected for visualization.\")\n",
    "\n",
    "    if fig_size is None:\n",
    "        fig_size = [24, 36]\n",
    "\n",
    "    n_k = n_rows * n_cols\n",
    "    K = np.min([n_features, n_k])\n",
    "    L = n_steps\n",
    "    plt.rcParams[\"font.size\"] = 16\n",
    "    fig, axes = plt.subplots(nrows=n_rows, ncols=n_cols, figsize=(fig_size[0], fig_size[1]))\n",
    "\n",
    "    for k in range(K):\n",
    "        df = pd.DataFrame({\"x\": np.arange(0, L), \"val\": X_imputed[sample_idx, :, k]})\n",
    "        df1 = pd.DataFrame({\"x\": np.arange(0, L), \"val\": X[sample_idx, :, k]})\n",
    "        df2 = pd.DataFrame({\"x\": np.arange(0, L), \"val\": X_ori[sample_idx, :, k]})\n",
    "        row = k // n_cols\n",
    "        col = k % n_cols\n",
    "        axes[row][col].plot(df1.x, df1.val, color=\"r\", marker=\"x\", linestyle=\"None\")\n",
    "        axes[row][col].plot(df2.x, df2.val, color=\"b\", marker=\"o\", linestyle=\"None\")\n",
    "        axes[row][col].plot(df.x, df.val, color=\"g\", linestyle=\"solid\")\n",
    "        if col == 0:\n",
    "            plt.setp(axes[row, 0], ylabel=\"value\")\n",
    "        if row == -1:\n",
    "            plt.setp(axes[-1, col], xlabel=\"time\")\n",
    "\n",
    "    logger.info(\"Plotting finished. Please invoke matplotlib.pyplot.show() to display the plot.\")\n",
    "\n",
    "\n",
    "plot_data(\n",
    "    test_set[\"X\"], \n",
    "    test_set[\"X_ori\"], \n",
    "    test_set_imputation_results[\"imputation\"],\n",
    "    5,\n",
    "    n_rows=7,\n",
    "    n_cols=6,\n",
    "    fig_size=[100, 50]\n",
    ")"
   ]
  }
 ],
 "metadata": {
  "kernelspec": {
   "display_name": "Python 3 (ipykernel)",
   "language": "python",
   "name": "python3"
  },
  "language_info": {
   "codemirror_mode": {
    "name": "ipython",
    "version": 3
   },
   "file_extension": ".py",
   "mimetype": "text/x-python",
   "name": "python",
   "nbconvert_exporter": "python",
   "pygments_lexer": "ipython3",
   "version": "3.12.4"
  }
 },
 "nbformat": 4,
 "nbformat_minor": 5
}
