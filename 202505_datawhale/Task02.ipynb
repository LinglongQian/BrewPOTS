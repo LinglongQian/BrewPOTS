{
 "cells": [
  {
   "cell_type": "markdown",
   "id": "6304638f-9194-43fc-8ccc-61bc855be389",
   "metadata": {},
   "source": [
    "# Task02. 搭建开发环境并运行、理解时序插补工作流"
   ]
  },
  {
   "cell_type": "markdown",
   "id": "cb2b1d8f-2dc4-41a3-a799-5d0e4278d686",
   "metadata": {},
   "source": [
    "## 1. 开发环境配置"
   ]
  },
  {
   "cell_type": "markdown",
   "id": "e9b89c6d-be99-48d8-93ae-670be29802a3",
   "metadata": {},
   "source": [
    "### PyPOTS开发环境支持多种安装方式, 你可以自由选择从源码安装, 通过pip安装PyPI上的发布版本或者使用conda从conda-forge的发行版进行环境配置, 如果你熟悉docker的使用方式, 也可以通过docker来获取我们已经为你配置好的PyPOTS开发环境容器\n",
    "\n",
    "### 从下方选择一种你熟悉的安装方式来为PyPOTS配置Python开发环境\n",
    "\n",
    "💡 **补充说明**：不同的安装方式适用于不同的使用场景。\n",
    "\n",
    "- 从源码安装适合希望获取最新特性或参与开发的用户。\n",
    "- pip 安装适合大多数用户，获取的是官方发布的稳定版本。\n",
    "- conda 安装适合在 Anaconda 环境中使用，依赖管理更方便。\n",
    "- docker 安装适合希望一键部署环境的用户，尤其适合在服务器上部署运行。"
   ]
  },
  {
   "cell_type": "code",
   "execution_count": null,
   "id": "f6788a65-4799-4287-b31e-1c36fe3ff445",
   "metadata": {},
   "outputs": [],
   "source": [
    "# 从源码安装\n",
    "# 🚀 从源码安装 PyPOTS：推荐用于获取最新开发版（可能包含最新特性，但稳定性略低）\n",
    "# 如果你希望参与开发或想尝试最新功能，可以使用这种方式安装\n",
    "!pip install https://github.com/WenjieDu/PyPOTS/archive/main.zip"
   ]
  },
  {
   "cell_type": "code",
   "execution_count": null,
   "id": "d9b6d6a3-d4ad-4e91-8aa2-d3f5eafb6b05",
   "metadata": {},
   "outputs": [],
   "source": [
    "# 从PyPI安装 \n",
    "# ✅ 从PyPI安装 PyPOTS：推荐用于稳定版本的安装\n",
    "# 这种方式适合大多数用户，安装的是在 PyPI 上发布的最新稳定版本\n",
    "!pip install pypots"
   ]
  },
  {
   "cell_type": "code",
   "execution_count": null,
   "id": "fc58e92a-80b6-4e44-9372-8ec210b598df",
   "metadata": {},
   "outputs": [],
   "source": [
    "# 从conda-forge安装 (‼️请确定你熟悉conda的操作并且确认你的电脑上安装了conda)\n",
    "!conda install conda-forge::pypots"
   ]
  },
  {
   "cell_type": "code",
   "execution_count": null,
   "id": "b85b4d8e-c2cb-48c2-a94c-016102f8c100",
   "metadata": {},
   "outputs": [],
   "source": [
    "# 运行配置好PyPOTS开发环境的docker容器 (‼️请确定你熟悉docker的使用并且确认你的电脑上安装了docker)\n",
    "!docker run -it --name pypots wenjiedu/pypots"
   ]
  },
  {
   "cell_type": "markdown",
   "id": "a250ac53-01c6-4cea-9a5b-c3f4d2bc3fa5",
   "metadata": {},
   "source": [
    "## 2. 时间序列插补工作流"
   ]
  },
  {
   "cell_type": "markdown",
   "id": "a6cf423f-898b-4afe-a544-999b963de533",
   "metadata": {},
   "source": [
    "## 生成一个随机的时间序列数据集"
   ]
  },
  {
   "cell_type": "code",
   "execution_count": 1,
   "id": "18fddf59-9cba-435a-9ffe-0ebc1b918e21",
   "metadata": {},
   "outputs": [
    {
     "name": "stderr",
     "output_type": "stream",
     "text": [
      "2025-05-09 15:29:55 [INFO]: You're using dataset physionet_2012, please cite it properly in your work. You can find its reference information at the below link: \n",
      "https://github.com/WenjieDu/TSDB/tree/main/dataset_profiles/physionet_2012\n",
      "2025-05-09 15:29:55 [INFO]: Dataset physionet_2012 has already been downloaded. Processing directly...\n",
      "2025-05-09 15:29:55 [INFO]: Dataset physionet_2012 has already been cached. Loading from cache directly...\n",
      "2025-05-09 15:29:55 [INFO]: Loaded successfully!\n",
      "2025-05-09 15:30:03 [WARNING]: Note that physionet_2012 has sparse observations in the time series, hence we don't add additional missing values to the training dataset. \n",
      "2025-05-09 15:30:03 [INFO]: 22772 values masked out in the val set as ground truth, take 9.92% of the original observed values\n",
      "2025-05-09 15:30:03 [INFO]: 28895 values masked out in the test set as ground truth, take 10.00% of the original observed values\n",
      "2025-05-09 15:30:03 [INFO]: Total sample number: 3997\n",
      "2025-05-09 15:30:03 [INFO]: Training set size: 2557 (63.97%)\n",
      "2025-05-09 15:30:03 [INFO]: Validation set size: 640 (16.01%)\n",
      "2025-05-09 15:30:03 [INFO]: Test set size: 800 (20.02%)\n",
      "2025-05-09 15:30:03 [INFO]: Number of steps: 48\n",
      "2025-05-09 15:30:03 [INFO]: Number of features: 37\n",
      "2025-05-09 15:30:03 [INFO]: Train set missing rate: 79.72%\n",
      "2025-05-09 15:30:03 [INFO]: Validating set missing rate: 81.80%\n",
      "2025-05-09 15:30:03 [INFO]: Test set missing rate: 81.69%\n"
     ]
    },
    {
     "name": "stdout",
     "output_type": "stream",
     "text": [
      "dict_keys(['n_classes', 'n_steps', 'n_features', 'scaler', 'train_X', 'train_y', 'train_ICUType', 'val_X', 'val_y', 'val_ICUType', 'test_X', 'test_y', 'test_ICUType', 'val_X_ori', 'test_X_ori'])\n"
     ]
    }
   ],
   "source": [
    "# 导入必要的库\n",
    "from benchpots.datasets import preprocess_physionet2012  # 导入physionet2012数据集预处理函数\n",
    "\n",
    "# 加载并预处理physionet2012数据集\n",
    "# subset=\"set-a\": 使用set-a子集\n",
    "# pattern=\"point\": 使用点缺失模式\n",
    "# rate=0.1: 设置缺失率为10%\n",
    "physionet2012_dataset = preprocess_physionet2012(\n",
    "    subset=\"set-a\", \n",
    "    pattern=\"point\", \n",
    "    rate=0.1,\n",
    ")\n",
    "\n",
    "# 打印数据集的键，查看包含哪些数据\n",
    "print(physionet2012_dataset.keys())"
   ]
  },
  {
   "cell_type": "code",
   "execution_count": 3,
   "id": "a3148238-4842-43df-8cbc-9b3538f2a52f",
   "metadata": {},
   "outputs": [],
   "source": [
    "# 导入numpy库用于数值计算\n",
    "import numpy as np\n",
    "\n",
    "# 创建测试集的缺失值指示掩码\n",
    "# 通过异或运算(^)比较原始数据和缺失数据的NaN位置，得到真实缺失值的位置\n",
    "physionet2012_dataset[\"test_X_indicating_mask\"] = np.isnan(physionet2012_dataset[\"test_X\"]) ^ np.isnan(physionet2012_dataset[\"test_X_ori\"])\n",
    "\n",
    "# 将原始测试数据中的NaN值替换为0\n",
    "physionet2012_dataset[\"test_X_ori\"] = np.nan_to_num(physionet2012_dataset[\"test_X_ori\"])\n",
    "\n",
    "# 构建训练集字典，只包含输入特征X\n",
    "train_set = {\n",
    "    \"X\": physionet2012_dataset[\"train_X\"],\n",
    "}\n",
    "\n",
    "# 构建验证集字典，包含输入特征X和原始数据X_ori\n",
    "val_set = {\n",
    "    \"X\": physionet2012_dataset[\"val_X\"],\n",
    "    \"X_ori\": physionet2012_dataset[\"val_X_ori\"],\n",
    "}\n",
    "\n",
    "# 构建测试集字典，包含输入特征X和原始数据X_ori\n",
    "test_set = {\n",
    "    \"X\": physionet2012_dataset[\"test_X\"],\n",
    "    \"X_ori\": physionet2012_dataset[\"test_X_ori\"],\n",
    "}"
   ]
  },
  {
   "cell_type": "code",
   "execution_count": 4,
   "id": "39a8eff3-d5f9-4c38-9aae-0d711d9fb40a",
   "metadata": {},
   "outputs": [
    {
     "data": {
      "text/plain": [
       "37"
      ]
     },
     "execution_count": 4,
     "metadata": {},
     "output_type": "execute_result"
    }
   ],
   "source": [
    "# 获取physionet2012数据集中特征的数量\n",
    "# n_features表示数据集中每个时间步包含的变量/特征数量\n",
    "physionet2012_dataset['n_features']"
   ]
  },
  {
   "cell_type": "code",
   "execution_count": 6,
   "id": "eba5d2f2-505a-44bf-9ef3-92c7b0fe3a3b",
   "metadata": {},
   "outputs": [
    {
     "name": "stderr",
     "output_type": "stream",
     "text": [
      "2025-05-09 15:30:22 [INFO]: No given device, using default device: cuda\n",
      "2025-05-09 15:30:22 [WARNING]: ‼️ saving_path not given. Model files and tensorboard file will not be saved.\n",
      "2025-05-09 15:30:22 [INFO]: Using customized MAE as the training loss function.\n",
      "2025-05-09 15:30:22 [INFO]: Using customized MSE as the validation metric function.\n",
      "2025-05-09 15:30:22 [INFO]: SAITS initialized with the given hyperparameters, the number of trainable parameters: 218,294\n"
     ]
    }
   ],
   "source": [
    "# 导入SAITS模型，这是一个用于时间序列数据插补的深度学习模型\n",
    "from pypots.imputation import SAITS\n",
    "\n",
    "# 初始化SAITS模型，设置模型参数\n",
    "saits = SAITS(\n",
    "    n_steps=physionet2012_dataset['n_steps'],      # 时间步长，从数据集中获取\n",
    "    n_features=physionet2012_dataset['n_features'], # 特征数量，从数据集中获取\n",
    "    n_layers=3,                                     # Transformer编码器层数\n",
    "    d_model=64,                                     # 模型维度\n",
    "    n_heads=4,                                      # 注意力头数\n",
    "    d_k=16,                                         # 每个注意力头的键维度\n",
    "    d_v=16,                                         # 每个注意力头的值维度\n",
    "    d_ffn=128,                                      # 前馈神经网络隐藏层维度\n",
    "    dropout=0.1,                                    # Dropout比率，用于防止过拟合\n",
    "    epochs=10,                                      # 训练轮数\n",
    ")"
   ]
  },
  {
   "cell_type": "code",
   "execution_count": 7,
   "id": "9b6c8f38-54f2-43c2-a011-5e80361ff11b",
   "metadata": {},
   "outputs": [
    {
     "name": "stderr",
     "output_type": "stream",
     "text": [
      "2025-05-09 15:30:35 [INFO]: Epoch 001 - training loss (MAE): 1.1070, validation MSE: 1.2067\n",
      "2025-05-09 15:30:39 [INFO]: Epoch 002 - training loss (MAE): 0.7917, validation MSE: 1.1190\n",
      "2025-05-09 15:30:42 [INFO]: Epoch 003 - training loss (MAE): 0.6935, validation MSE: 1.0924\n",
      "2025-05-09 15:30:45 [INFO]: Epoch 004 - training loss (MAE): 0.6501, validation MSE: 1.0746\n",
      "2025-05-09 15:30:49 [INFO]: Epoch 005 - training loss (MAE): 0.6189, validation MSE: 1.0564\n",
      "2025-05-09 15:30:52 [INFO]: Epoch 006 - training loss (MAE): 0.5973, validation MSE: 1.0546\n",
      "2025-05-09 15:30:55 [INFO]: Epoch 007 - training loss (MAE): 0.5858, validation MSE: 1.0432\n",
      "2025-05-09 15:30:59 [INFO]: Epoch 008 - training loss (MAE): 0.5705, validation MSE: 1.0403\n",
      "2025-05-09 15:31:02 [INFO]: Epoch 009 - training loss (MAE): 0.5576, validation MSE: 1.0374\n",
      "2025-05-09 15:31:06 [INFO]: Epoch 010 - training loss (MAE): 0.5527, validation MSE: 1.0315\n",
      "2025-05-09 15:31:06 [INFO]: Finished training. The best model is from epoch#10.\n"
     ]
    }
   ],
   "source": [
    "# 使用训练集和验证集对SAITS模型进行训练\n",
    "# train_set: 包含训练数据的字典，其中\"X\"键对应的值包含输入特征\n",
    "# val_set: 包含验证数据的字典，其中\"X\"键对应的值包含输入特征，\"X_ori\"键对应的值包含原始数据\n",
    "# 训练过程中会自动使用之前设置的参数，包括epochs=10等超参数\n",
    "saits.fit(train_set, val_set)"
   ]
  },
  {
   "cell_type": "code",
   "execution_count": 8,
   "id": "31b4855c-7965-4b21-958a-4f9be240c009",
   "metadata": {},
   "outputs": [],
   "source": [
    "# 使用训练好的SAITS模型对测试集进行预测，生成缺失值填充结果\n",
    "# test_set: 包含测试数据的字典，其中\"X\"键对应的值包含输入特征\n",
    "# 返回的test_set_imputation_results是一个字典，其中重要的键值对为：\n",
    "# - \"imputation\": 填充后的完整时间序列数据，形状为(n_samples, n_steps, n_features)\n",
    "test_set_imputation_results = saits.predict(test_set)"
   ]
  },
  {
   "cell_type": "code",
   "execution_count": 9,
   "id": "6fb7db21-b17a-4634-b940-fbd6f325cdab",
   "metadata": {},
   "outputs": [
    {
     "name": "stdout",
     "output_type": "stream",
     "text": [
      "SAITS test_MSE: 0.14154181286514345\n"
     ]
    }
   ],
   "source": [
    "# 从pypots库中导入计算均方误差(MSE)的函数\n",
    "from pypots.nn.functional import calc_mse\n",
    "\n",
    "# 计算测试集上的均方误差(MSE)\n",
    "# test_set_imputation_results[\"imputation\"]: SAITS模型对测试集的插补结果\n",
    "# physionet2012_dataset[\"test_X_ori\"]: 测试集的原始完整数据\n",
    "# physionet2012_dataset[\"test_X_indicating_mask\"]: 测试集的缺失值指示掩码\n",
    "test_MSE = calc_mse(\n",
    "            test_set_imputation_results[\"imputation\"],\n",
    "            physionet2012_dataset[\"test_X_ori\"],\n",
    "            physionet2012_dataset[\"test_X_indicating_mask\"],\n",
    ")\n",
    "# 打印SAITS模型在测试集上的MSE评估结果\n",
    "print(f\"SAITS test_MSE: {test_MSE}\")"
   ]
  },
  {
   "cell_type": "code",
   "execution_count": null,
   "id": "709f7877",
   "metadata": {},
   "outputs": [],
   "source": [
    "# 导入必要的库\n",
    "from typing import Optional  # 用于类型提示\n",
    "import matplotlib.pyplot as plt  # 用于绘图\n",
    "import numpy as np  # 用于数值计算\n",
    "import pandas as pd  # 用于数据处理\n",
    "from pypots.utils.logging import logger  # 用于日志记录\n",
    "\n",
    "# ⚠️ TODO: 优化该画图函数\n",
    "def plot_data(\n",
    "    X: np.ndarray,  # 输入数据，包含缺失值的时间序列\n",
    "    X_ori: np.ndarray,  # 原始完整数据\n",
    "    X_imputed: np.ndarray,  # 模型填充后的数据\n",
    "    sample_idx: Optional[int] = None,  # 要可视化的样本索引，如果为None则随机选择\n",
    "    n_rows: int = 10,  # 子图的行数\n",
    "    n_cols: int = 4,  # 子图的列数\n",
    "    fig_size: Optional[list] = None,  # 图形大小，如果为None则使用默认值\n",
    "):\n",
    "    \"\"\"\n",
    "    可视化时间序列数据的函数，用于比较原始数据、缺失数据和填充后的数据\n",
    "    \n",
    "    参数:\n",
    "        X: 包含缺失值的时间序列数据，形状为(n_samples, n_steps, n_features)\n",
    "        X_ori: 原始完整数据，形状与X相同\n",
    "        X_imputed: 模型填充后的数据，形状与X相同\n",
    "        sample_idx: 要可视化的样本索引\n",
    "        n_rows: 子图的行数\n",
    "        n_cols: 子图的列数\n",
    "        fig_size: 图形大小\n",
    "    \"\"\"\n",
    "    # 获取数据形状\n",
    "    vals_shape = X.shape\n",
    "    assert len(vals_shape) == 3, \"vals_obs应该是一个3D数组，形状为(n_samples, n_steps, n_features)\"\n",
    "    n_samples, n_steps, n_features = vals_shape\n",
    "\n",
    "    # 如果未指定样本索引，随机选择一个\n",
    "    if sample_idx is None:\n",
    "        sample_idx = np.random.randint(low=0, high=n_samples)\n",
    "        logger.warning(f\"⚠️ 未指定样本索引，随机选择样本 {sample_idx} 进行可视化。\")\n",
    "\n",
    "    # 设置默认图形大小\n",
    "    if fig_size is None:\n",
    "        fig_size = [24, 36]\n",
    "\n",
    "    # 计算要显示的特征数量\n",
    "    n_k = n_rows * n_cols\n",
    "    K = np.min([n_features, n_k])  # 取特征数量和子图数量的较小值\n",
    "    L = n_steps  # 时间步长\n",
    "    \n",
    "    # 设置图形参数\n",
    "    plt.rcParams[\"font.size\"] = 16\n",
    "    fig, axes = plt.subplots(nrows=n_rows, ncols=n_cols, figsize=(fig_size[0], fig_size[1]))\n",
    "\n",
    "    # 为每个特征创建子图\n",
    "    for k in range(K):\n",
    "        # 创建数据框用于绘图\n",
    "        df = pd.DataFrame({\"x\": np.arange(0, L), \"val\": X_imputed[sample_idx, :, k]})  # 填充后的数据\n",
    "        df1 = pd.DataFrame({\"x\": np.arange(0, L), \"val\": X[sample_idx, :, k]})  # 缺失数据\n",
    "        df2 = pd.DataFrame({\"x\": np.arange(0, L), \"val\": X_ori[sample_idx, :, k]})  # 原始数据\n",
    "        \n",
    "        # 计算子图位置\n",
    "        row = k // n_cols\n",
    "        col = k % n_cols\n",
    "        \n",
    "        # 绘制三种数据\n",
    "        axes[row][col].plot(df1.x, df1.val, color=\"r\", marker=\"x\", linestyle=\"None\")  # 缺失数据用红色x标记\n",
    "        axes[row][col].plot(df2.x, df2.val, color=\"b\", marker=\"o\", linestyle=\"None\")  # 原始数据用蓝色o标记\n",
    "        axes[row][col].plot(df.x, df.val, color=\"g\", linestyle=\"solid\")  # 填充数据用绿色实线\n",
    "        \n",
    "        # 设置坐标轴标签\n",
    "        if col == 0:\n",
    "            plt.setp(axes[row, 0], ylabel=\"value\")  # 第一列添加y轴标签\n",
    "        if row == -1:\n",
    "            plt.setp(axes[-1, col], xlabel=\"time\")  # 最后一行添加x轴标签\n",
    "\n",
    "    logger.info(\"绘图完成。请调用matplotlib.pyplot.show()显示图形。\")\n",
    "\n",
    "\n",
    "# 调用绘图函数，可视化测试集数据\n",
    "plot_data(\n",
    "    test_set[\"X\"],  # 测试集输入数据\n",
    "    test_set[\"X_ori\"],  # 测试集原始数据\n",
    "    test_set_imputation_results[\"imputation\"],  # 模型填充结果\n",
    "    5,  # 选择第5个样本\n",
    "    n_rows=7,  # 7行子图\n",
    "    n_cols=6,  # 6列子图\n",
    "    fig_size=[100, 50]  # 图形大小\n",
    ")"
   ]
  }
 ],
 "metadata": {
  "kernelspec": {
   "display_name": "ts",
   "language": "python",
   "name": "python3"
  },
  "language_info": {
   "codemirror_mode": {
    "name": "ipython",
    "version": 3
   },
   "file_extension": ".py",
   "mimetype": "text/x-python",
   "name": "python",
   "nbconvert_exporter": "python",
   "pygments_lexer": "ipython3",
   "version": "3.9.0"
  }
 },
 "nbformat": 4,
 "nbformat_minor": 5
}
