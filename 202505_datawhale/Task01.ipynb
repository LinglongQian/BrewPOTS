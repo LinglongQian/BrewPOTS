{
 "cells": [
  {
   "cell_type": "markdown",
   "id": "133f10af-b63d-4f65-8164-46010999614a",
   "metadata": {},
   "source": [
    "# Task01. 时序数据与PyPOTS介绍"
   ]
  },
  {
   "cell_type": "markdown",
   "id": "a4bbe22b-9d94-4667-8fd1-4334fa4810db",
   "metadata": {},
   "source": [
    "## 1. 什么是时间序列"
   ]
  },
  {
   "cell_type": "code",
   "execution_count": null,
   "id": "1283b12a-9fa2-477b-bcb4-071cd810e739",
   "metadata": {},
   "outputs": [],
   "source": []
  },
  {
   "cell_type": "markdown",
   "id": "da85cd20-db11-4f1e-945c-f40887ba53fa",
   "metadata": {
    "jp-MarkdownHeadingCollapsed": true
   },
   "source": [
    "## 2. PyPOTS介绍"
   ]
  }
 ],
 "metadata": {
  "kernelspec": {
   "display_name": "Python 3 (ipykernel)",
   "language": "python",
   "name": "python3"
  },
  "language_info": {
   "codemirror_mode": {
    "name": "ipython",
    "version": 3
   },
   "file_extension": ".py",
   "mimetype": "text/x-python",
   "name": "python",
   "nbconvert_exporter": "python",
   "pygments_lexer": "ipython3",
   "version": "3.12.4"
  }
 },
 "nbformat": 4,
 "nbformat_minor": 5
}
