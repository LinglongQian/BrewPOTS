{
 "cells": [
  {
   "cell_type": "markdown",
   "metadata": {},
   "source": [
    "# 📑 Tutorials for PyPOTS Clustering Models"
   ]
  },
  {
   "cell_type": "markdown",
   "metadata": {},
   "source": [
    "## 📀 Preparing the **PhysioNet-2012** dataset for this tutorial"
   ]
  },
  {
   "cell_type": "code",
   "execution_count": 1,
   "metadata": {},
   "outputs": [
    {
     "name": "stderr",
     "output_type": "stream",
     "text": [
      "2024-03-17 22:33:58 [INFO]: Have set the random seed as 16 for numpy and pytorch.\n",
      "2024-03-17 22:33:58 [INFO]: Loading the dataset physionet_2012 with TSDB (https://github.com/WenjieDu/Time_Series_Data_Beans)...\n",
      "2024-03-17 22:33:58 [INFO]: Starting preprocessing physionet_2012...\n",
      "2024-03-17 22:33:58 [INFO]: You're using dataset physionet_2012, please cite it properly in your work. You can find its reference information at the below link: \n",
      "https://github.com/WenjieDu/TSDB/tree/main/dataset_profiles/physionet_2012\n",
      "2024-03-17 22:33:58 [INFO]: Dataset physionet_2012 has already been downloaded. Processing directly...\n",
      "2024-03-17 22:33:58 [INFO]: Dataset physionet_2012 has already been cached. Loading from cache directly...\n",
      "2024-03-17 22:33:58 [INFO]: Loaded successfully!\n"
     ]
    },
    {
     "name": "stdout",
     "output_type": "stream",
     "text": [
      "dict_keys(['n_classes', 'n_steps', 'n_features', 'train_X', 'train_y', 'train_ICUType', 'val_X', 'val_y', 'val_ICUType', 'test_X', 'test_y', 'test_ICUType', 'scaler'])\n"
     ]
    }
   ],
   "source": [
    "from pypots.data.generating import gene_physionet2012\n",
    "from pypots.utils.random import set_random_seed\n",
    "from global_config import RANDOM_SEED\n",
    "\n",
    "set_random_seed(RANDOM_SEED)\n",
    "\n",
    "# Load the PhysioNet-2012 dataset, disable artificially-missing values for evaluation\n",
    "physionet2012_dataset = gene_physionet2012(artificially_missing_rate=0)\n",
    "\n",
    "# Take a look at the generated PhysioNet-2012 dataset, you'll find that everything has been prepared for you,\n",
    "# data splitting, normalization, additional artificially-missing values for evaluation, etc.\n",
    "print(physionet2012_dataset.keys())\n"
   ]
  },
  {
   "cell_type": "code",
   "execution_count": 2,
   "metadata": {},
   "outputs": [],
   "source": [
    "# Assemble the datasets for training, validating, and testing.\n",
    "import numpy as np\n",
    "\n",
    "# don't need validation set\n",
    "dataset_for_training = {\n",
    "    \"X\": np.concatenate([physionet2012_dataset['train_X'], physionet2012_dataset['val_X']], axis=0),\n",
    "    \"y\": np.concatenate([physionet2012_dataset['train_y'], physionet2012_dataset['val_y']], axis=0),\n",
    "}\n",
    "\n",
    "dataset_for_testing = {\n",
    "    \"X\": physionet2012_dataset['test_X'],\n",
    "    \"y\": physionet2012_dataset['test_y'],\n",
    "}\n"
   ]
  },
  {
   "cell_type": "markdown",
   "metadata": {},
   "source": [
    "## 🚀 An example of **CRLI** for clustering"
   ]
  },
  {
   "cell_type": "code",
   "execution_count": 9,
   "metadata": {},
   "outputs": [
    {
     "name": "stderr",
     "output_type": "stream",
     "text": [
      "2024-03-17 23:02:01 [INFO]: Using the given device: cuda\n",
      "2024-03-17 23:02:01 [INFO]: Model files will be saved to tutorial_results/clustering/crli/20240317_T230201\n",
      "2024-03-17 23:02:01 [INFO]: Tensorboard file will be saved to tutorial_results/clustering/crli/20240317_T230201/tensorboard\n",
      "2024-03-17 23:02:01 [INFO]: CRLI initialized with the given hyperparameters, the number of trainable parameters: 1,546,820\n"
     ]
    }
   ],
   "source": [
    "from pypots.optim import Adam\n",
    "from pypots.clustering import CRLI\n",
    "\n",
    "# initialize the model\n",
    "crli = CRLI(\n",
    "    n_steps=physionet2012_dataset[\"n_steps\"],\n",
    "    n_features=physionet2012_dataset[\"n_features\"],\n",
    "    n_clusters=physionet2012_dataset[\"n_classes\"],\n",
    "    n_generator_layers=2,\n",
    "    rnn_hidden_size=256,\n",
    "    rnn_cell_type=\"GRU\",\n",
    "    decoder_fcn_output_dims=[256, 128],  # the output dimensions of layers in the decoder FCN.\n",
    "    # Here means there are 3 layers. Leave it to default as None will results in\n",
    "    # the FCN haveing only one layer.\n",
    "    batch_size=32,\n",
    "    # here we set epochs=10 for a quick demo, you can set it to 100 or more for better performance\n",
    "    epochs=10,\n",
    "    # here we set patience=3 to early stop the training if the evaluting loss doesn't decrease for 3 epoches.\n",
    "    # You can leave it to defualt as None to disable early stopping.\n",
    "    patience=3,\n",
    "    # give the optimizer. Different from torch.optim.Optimizer, you don't have to specify model's parameters when\n",
    "    # initializing pypots.optim.Optimizer. You can also leave it to default. It will initilize an Adam optimizer with lr=0.001.\n",
    "    G_optimizer=Adam(lr=1e-3),\n",
    "    D_optimizer=Adam(lr=1e-3),\n",
    "    # this num_workers argument is for torch.utils.data.Dataloader. It's the number of subprocesses to use for data loading.\n",
    "    # Leaving it to default as 0 means data loading will be in the main process, i.e. there won't be subprocesses.\n",
    "    # You can increase it to >1 if you think your dataloading is a bottleneck to your model training speed\n",
    "    num_workers=0,\n",
    "    # just leave it to default as None, PyPOTS will automatically assign the best device for you.\n",
    "    # Set it as 'cpu' if you don't have CUDA devices. You can also set it to 'cuda:0' or 'cuda:1' if you have multiple CUDA devices, even parallelly on ['cuda:0', 'cuda:1']\n",
    "    device=None,  \n",
    "    # set the path for saving tensorboard and trained model files \n",
    "    saving_path=\"../tutorial_results/clustering/crli\",\n",
    "    # only save the best model after training finished.\n",
    "    # You can also set it as \"better\" to save models performing better ever during training.\n",
    "    model_saving_strategy=\"best\",\n",
    ")\n"
   ]
  },
  {
   "cell_type": "code",
   "execution_count": 10,
   "metadata": {},
   "outputs": [
    {
     "name": "stderr",
     "output_type": "stream",
     "text": [
      "2024-03-17 23:03:19 [INFO]: Epoch 001 - generator training loss: 3.1392, discriminator training loss: 0.3933\n",
      "2024-03-17 23:04:37 [INFO]: Epoch 002 - generator training loss: 3.2296, discriminator training loss: 0.3710\n",
      "2024-03-17 23:05:56 [INFO]: Epoch 003 - generator training loss: 3.2216, discriminator training loss: 0.3632\n",
      "2024-03-17 23:07:15 [INFO]: Epoch 004 - generator training loss: 3.2012, discriminator training loss: 0.3592\n",
      "2024-03-17 23:07:15 [INFO]: Exceeded the training patience. Terminating the training procedure...\n",
      "2024-03-17 23:07:15 [INFO]: Finished training.\n",
      "2024-03-17 23:07:15 [INFO]: Saved the model to tutorial_results/clustering/crli/20240317_T230201/CRLI.pypots\n"
     ]
    }
   ],
   "source": [
    "# train the model on the training set, and validate it on the validating set to select the best model for testing in the next step\n",
    "crli.fit(train_set=dataset_for_training)\n"
   ]
  },
  {
   "cell_type": "code",
   "execution_count": 11,
   "metadata": {},
   "outputs": [],
   "source": [
    "# the testing stage\n",
    "crli_results = crli.predict(dataset_for_testing)\n",
    "crli_prediction = crli_results[\"clustering\"]"
   ]
  },
  {
   "cell_type": "code",
   "execution_count": 12,
   "metadata": {},
   "outputs": [
    {
     "name": "stdout",
     "output_type": "stream",
     "text": [
      "Testing clustering metrics: \n",
      "RI: 0.6352735191995277, \n",
      "CP: 0.8582151793160967\n"
     ]
    }
   ],
   "source": [
    "from pypots.utils.metrics import calc_rand_index, calc_cluster_purity\n",
    "\n",
    "# calculate the values of clustering metrics on the model's prediction\n",
    "RI = calc_rand_index(crli_prediction, dataset_for_testing[\"y\"])\n",
    "CP = calc_cluster_purity(crli_prediction, dataset_for_testing[\"y\"])\n",
    "\n",
    "print(\"Testing clustering metrics: \\n\"\n",
    "      f'RI: {RI}, \\n'\n",
    "      f'CP: {CP}\\n'\n",
    "      )\n"
   ]
  },
  {
   "cell_type": "markdown",
   "metadata": {},
   "source": [
    "## 🚀 An example of **VaDER** for clustering"
   ]
  },
  {
   "cell_type": "code",
   "execution_count": 16,
   "metadata": {},
   "outputs": [
    {
     "name": "stderr",
     "output_type": "stream",
     "text": [
      "2024-03-17 23:26:23 [INFO]: Using the given device: cuda\n",
      "2024-03-17 23:26:23 [INFO]: Model files will be saved to tutorial_results/clustering/vader/20240317_T232623\n",
      "2024-03-17 23:26:23 [INFO]: Tensorboard file will be saved to tutorial_results/clustering/vader/20240317_T232623/tensorboard\n",
      "2024-03-17 23:26:23 [INFO]: VaDER initialized with the given hyperparameters, the number of trainable parameters: 293,644\n"
     ]
    }
   ],
   "source": [
    "from pypots.optim import Adam\n",
    "from pypots.clustering import VaDER\n",
    "\n",
    "# initialize the model\n",
    "vader = VaDER(\n",
    "    n_steps=physionet2012_dataset[\"n_steps\"],\n",
    "    n_features=physionet2012_dataset[\"n_features\"],\n",
    "    n_clusters=physionet2012_dataset[\"n_classes\"],\n",
    "    rnn_hidden_size=128,\n",
    "    d_mu_stddev=2,\n",
    "    pretrain_epochs=20,\n",
    "    batch_size=32,\n",
    "    # here we set epochs=10 for a quick demo, you can set it to 100 or more for better performance\n",
    "    epochs=10,\n",
    "    # here we set patience=3 to early stop the training if the evaluting loss doesn't decrease for 3 epoches.\n",
    "    # You can leave it to defualt as None to disable early stopping.\n",
    "    patience=3,\n",
    "    # give the optimizer. Different from torch.optim.Optimizer, you don't have to specify model's parameters when\n",
    "    # initializing pypots.optim.Optimizer. You can also leave it to default. It will initilize an Adam optimizer with lr=0.001.\n",
    "    optimizer=Adam(lr=1e-3),\n",
    "    # this num_workers argument is for torch.utils.data.Dataloader. It's the number of subprocesses to use for data loading.\n",
    "    # Leaving it to default as 0 means data loading will be in the main process, i.e. there won't be subprocesses.\n",
    "    # You can increase it to >1 if you think your dataloading is a bottleneck to your model training speed\n",
    "    num_workers=0,\n",
    "    # just leave it to default as None, PyPOTS will automatically assign the best device for you.\n",
    "    # Set it as 'cpu' if you don't have CUDA devices. You can also set it to 'cuda:0' or 'cuda:1' if you have multiple CUDA devices, even parallelly on ['cuda:0', 'cuda:1']\n",
    "    device=None,  \n",
    "    # set the path for saving tensorboard and trained model files \n",
    "    saving_path=\"../tutorial_results/clustering/vader\",\n",
    "    # only save the best model after training finished.\n",
    "    # You can also set it as \"better\" to save models performing better ever during training.\n",
    "    model_saving_strategy=\"best\",\n",
    ")\n"
   ]
  },
  {
   "cell_type": "code",
   "execution_count": 17,
   "metadata": {},
   "outputs": [
    {
     "name": "stderr",
     "output_type": "stream",
     "text": [
      "2024-03-17 23:41:56 [INFO]: Epoch 001 - training loss: 0.6455\n",
      "2024-03-17 23:42:31 [INFO]: Epoch 002 - training loss: 0.3395\n",
      "2024-03-17 23:43:05 [INFO]: Epoch 003 - training loss: 0.3255\n",
      "2024-03-17 23:43:48 [INFO]: Epoch 004 - training loss: 0.3286\n",
      "2024-03-17 23:44:39 [INFO]: Epoch 005 - training loss: 0.3266\n",
      "2024-03-17 23:45:36 [INFO]: Epoch 006 - training loss: 0.3116\n",
      "2024-03-17 23:46:30 [INFO]: Epoch 007 - training loss: 0.3303\n",
      "2024-03-17 23:47:19 [INFO]: Epoch 008 - training loss: 0.3111\n",
      "2024-03-17 23:48:08 [INFO]: Epoch 009 - training loss: 0.3211\n",
      "2024-03-17 23:48:57 [INFO]: Epoch 010 - training loss: 0.3170\n",
      "2024-03-17 23:48:57 [INFO]: Finished training.\n",
      "2024-03-17 23:48:57 [INFO]: Saved the model to tutorial_results/clustering/vader/20240317_T232623/VaDER.pypots\n"
     ]
    }
   ],
   "source": [
    "# train the model on the training set, and validate it on the validating set to select the best model for testing in the next step\n",
    "vader.fit(train_set=dataset_for_training)\n"
   ]
  },
  {
   "cell_type": "code",
   "execution_count": 18,
   "metadata": {},
   "outputs": [],
   "source": [
    "# the testing stage\n",
    "vader_results = vader.predict(dataset_for_testing)\n",
    "vader_prediction = vader_results[\"clustering\"]"
   ]
  },
  {
   "cell_type": "code",
   "execution_count": 19,
   "metadata": {},
   "outputs": [
    {
     "name": "stdout",
     "output_type": "stream",
     "text": [
      "Testing clustering metrics: \n",
      "RI: 0.7565347009032349, \n",
      "CP: 0.8582151793160967,\n"
     ]
    }
   ],
   "source": [
    "from pypots.utils.metrics import calc_rand_index, calc_cluster_purity\n",
    "\n",
    "# calculate the values of clustering metrics on the model's prediction\n",
    "RI = calc_rand_index(vader_prediction, dataset_for_testing[\"y\"])\n",
    "CP = calc_cluster_purity(vader_prediction, dataset_for_testing[\"y\"])\n",
    "\n",
    "print(\"Testing clustering metrics: \\n\"\n",
    "      f'RI: {RI}, \\n'\n",
    "      f'CP: {CP},\\n'\n",
    "      )\n"
   ]
  }
 ],
 "metadata": {
  "kernelspec": {
   "display_name": "Python 3 (ipykernel)",
   "language": "python",
   "name": "python3"
  },
  "language_info": {
   "codemirror_mode": {
    "name": "ipython",
    "version": 3
   },
   "file_extension": ".py",
   "mimetype": "text/x-python",
   "name": "python",
   "nbconvert_exporter": "python",
   "pygments_lexer": "ipython3",
   "version": "3.10.13"
  }
 },
 "nbformat": 4,
 "nbformat_minor": 4
}
